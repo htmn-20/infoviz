{
 "cells": [
  {
   "cell_type": "markdown",
   "id": "1ce2014f",
   "metadata": {},
   "source": [
    "# Pandasの復習"
   ]
  },
  {
   "cell_type": "markdown",
   "id": "b975bbbd",
   "metadata": {},
   "source": [
    "練習問題は、[gotty21/basic_pandas-64-knocks](https://github.com/gotty21/basic_pandas-64-knocks)をから抜粋しました。\n",
    "\n",
    "公式ドキュメントを参照しながら解いてください。\n",
    "\n",
    "* [10 minutes to pandas](https://pandas.pydata.org/docs/user_guide/10min.html)\n",
    "* [pandas documentation](https://pandas.pydata.org/docs/index.html)"
   ]
  },
  {
   "cell_type": "markdown",
   "id": "696241aa",
   "metadata": {},
   "source": [
    "## 事前準備\n",
    "\n",
    "データフレームを初期化するための関数`initialize()`を作ります。作業前にこの2つのセルを実行しましょう。\n",
    "\n",
    "`openpyxl`はExcelファイルの読み込みに必要です。必要に応じてインストールしてください。"
   ]
  },
  {
   "cell_type": "code",
   "execution_count": 1,
   "id": "c423312a",
   "metadata": {},
   "outputs": [
    {
     "name": "stdout",
     "output_type": "stream",
     "text": [
      "Requirement already satisfied: openpyxl in /Users/tomonohonda/infoviz/.venv/lib/python3.10/site-packages (3.1.5)\n",
      "Requirement already satisfied: et-xmlfile in /Users/tomonohonda/infoviz/.venv/lib/python3.10/site-packages (from openpyxl) (2.0.0)\n"
     ]
    }
   ],
   "source": [
    "!pip install openpyxl"
   ]
  },
  {
   "cell_type": "code",
   "execution_count": 2,
   "id": "ce977eda",
   "metadata": {},
   "outputs": [],
   "source": [
    "import pandas as pd\n",
    "\n",
    "def initialize(flag=0):\n",
    "    if flag == 0:\n",
    "        return pd.read_csv(\"./data/main.csv\")\n",
    "    if flag == 1:\n",
    "        return pd.read_csv(\"./data/add.csv\")\n",
    "    if flag == 2:\n",
    "        return pd.read_excel(\"./data/data.xlsx\")\n",
    "    else:\n",
    "        print(\"Please specify numbers between 0 to 2.\")\n",
    "        return None"
   ]
  },
  {
   "cell_type": "markdown",
   "id": "22c29118",
   "metadata": {},
   "source": [
    "## データの読み込み・確認"
   ]
  },
  {
   "cell_type": "markdown",
   "id": "1987f54c",
   "metadata": {},
   "source": [
    "### pandasインポート"
   ]
  },
  {
   "cell_type": "markdown",
   "id": "3dfc6363",
   "metadata": {},
   "source": [
    "【演習】pandasライブラリをpdという名前でインポートしてください。"
   ]
  },
  {
   "cell_type": "code",
   "execution_count": 3,
   "id": "5e414fbb",
   "metadata": {},
   "outputs": [],
   "source": [
    "# your code goes here\n",
    "import pandas as pd"
   ]
  },
  {
   "cell_type": "code",
   "execution_count": 4,
   "id": "178d85fd-e874-433c-986d-f59601ba5486",
   "metadata": {},
   "outputs": [],
   "source": [
    "# answer\n",
    "\n",
    "import pandas as pd"
   ]
  },
  {
   "cell_type": "markdown",
   "id": "4b6ce1e1",
   "metadata": {},
   "source": [
    "### csvファイルの読み込み"
   ]
  },
  {
   "cell_type": "markdown",
   "id": "bacd9aef",
   "metadata": {},
   "source": [
    "`./data/main.csv`を読み込んでデータフレームを作成し、dfという変数に格納します。"
   ]
  },
  {
   "cell_type": "code",
   "execution_count": 5,
   "id": "8e68cfa9",
   "metadata": {},
   "outputs": [],
   "source": [
    "# your code goes here\n"
   ]
  },
  {
   "cell_type": "code",
   "execution_count": 6,
   "id": "fe05e40e-e8c2-456a-881c-bfb70e5636ac",
   "metadata": {},
   "outputs": [],
   "source": [
    "file = \"./data/main.csv\"\n",
    "df = pd.read_csv(file)"
   ]
  },
  {
   "cell_type": "markdown",
   "id": "407f78e3",
   "metadata": {},
   "source": [
    "【演習】\n",
    "\n",
    "`./data/add.csv`を読み込んでデータフレームを作成し、addという変数に格納してください。\n"
   ]
  },
  {
   "cell_type": "code",
   "execution_count": 7,
   "id": "e3013970",
   "metadata": {},
   "outputs": [],
   "source": [
    "# your code goes here\n",
    "file = \"./data/add.csv\"\n",
    "add = pd.read_csv(file)"
   ]
  },
  {
   "cell_type": "markdown",
   "id": "dfdf9f03",
   "metadata": {},
   "source": [
    "### DataFrameのサイズの確認"
   ]
  },
  {
   "cell_type": "markdown",
   "id": "2654bae6",
   "metadata": {},
   "source": [
    "【演習】dfのサイズを確認してください。"
   ]
  },
  {
   "cell_type": "code",
   "execution_count": 8,
   "id": "5f781178",
   "metadata": {},
   "outputs": [],
   "source": [
    "# 次の一行でデータフレームdfを初期化します。演習を行う前に都度実行してください。\n",
    "\n",
    "df = initialize(0)"
   ]
  },
  {
   "cell_type": "code",
   "execution_count": 9,
   "id": "c2ab6932",
   "metadata": {},
   "outputs": [
    {
     "data": {
      "text/plain": [
       "22000"
      ]
     },
     "execution_count": 9,
     "metadata": {},
     "output_type": "execute_result"
    }
   ],
   "source": [
    "# your code goes here\n",
    "df.size"
   ]
  },
  {
   "cell_type": "markdown",
   "id": "11db54d6",
   "metadata": {},
   "source": [
    "### DataFrameのレコード数の確認"
   ]
  },
  {
   "cell_type": "markdown",
   "id": "05bd8397",
   "metadata": {},
   "source": [
    "【演習】dfのレコード数を確認してください。"
   ]
  },
  {
   "cell_type": "code",
   "execution_count": 10,
   "id": "61952204",
   "metadata": {},
   "outputs": [],
   "source": [
    "df = initialize(0)"
   ]
  },
  {
   "cell_type": "code",
   "execution_count": 11,
   "id": "e4c63d44",
   "metadata": {},
   "outputs": [
    {
     "data": {
      "text/plain": [
       "2000"
      ]
     },
     "execution_count": 11,
     "metadata": {},
     "output_type": "execute_result"
    }
   ],
   "source": [
    "# your code goes here\n",
    "len(df)"
   ]
  },
  {
   "cell_type": "markdown",
   "id": "544f0663",
   "metadata": {},
   "source": [
    "## ラベル"
   ]
  },
  {
   "cell_type": "markdown",
   "id": "b650bb9b",
   "metadata": {},
   "source": [
    "### DataFrameのカラム名の取得"
   ]
  },
  {
   "cell_type": "markdown",
   "id": "85deac68",
   "metadata": {},
   "source": [
    "【演習】dfのcolumn名をリスト形式で取得してください。"
   ]
  },
  {
   "cell_type": "code",
   "execution_count": 13,
   "id": "48b9e3aa",
   "metadata": {},
   "outputs": [],
   "source": [
    "df = initialize(0)"
   ]
  },
  {
   "cell_type": "code",
   "execution_count": 14,
   "id": "0af01bb9",
   "metadata": {},
   "outputs": [
    {
     "data": {
      "text/plain": [
       "['SK_ID_CURR',\n",
       " 'TARGET',\n",
       " 'NAME_CONTRACT_TYPE',\n",
       " 'CODE_GENDER',\n",
       " 'FLAG_OWN_CAR',\n",
       " 'FLAG_OWN_REALTY',\n",
       " 'CNT_CHILDREN',\n",
       " 'AMT_INCOME_TOTAL',\n",
       " 'FLAG_MOBIL',\n",
       " 'REGION_POPULATION_RELATIVE',\n",
       " 'OWN_CAR_AGE']"
      ]
     },
     "execution_count": 14,
     "metadata": {},
     "output_type": "execute_result"
    }
   ],
   "source": [
    "# your code goes here\n",
    "df.columns.to_list()"
   ]
  },
  {
   "cell_type": "markdown",
   "id": "2ac32e5d",
   "metadata": {},
   "source": [
    "### DataFrameのカラム名の一部を変更"
   ]
  },
  {
   "cell_type": "markdown",
   "id": "80902595",
   "metadata": {},
   "source": [
    "【演習】dfのcolumn名CODE_GENDERをGENDERに変更してください。"
   ]
  },
  {
   "cell_type": "code",
   "execution_count": 15,
   "id": "10842359",
   "metadata": {},
   "outputs": [],
   "source": [
    "df = initialize(0)"
   ]
  },
  {
   "cell_type": "code",
   "execution_count": 17,
   "id": "228b9165",
   "metadata": {},
   "outputs": [
    {
     "data": {
      "text/plain": [
       "['SK_ID_CURR',\n",
       " 'TARGET',\n",
       " 'NAME_CONTRACT_TYPE',\n",
       " 'GENDER',\n",
       " 'FLAG_OWN_CAR',\n",
       " 'FLAG_OWN_REALTY',\n",
       " 'CNT_CHILDREN',\n",
       " 'AMT_INCOME_TOTAL',\n",
       " 'FLAG_MOBIL',\n",
       " 'REGION_POPULATION_RELATIVE',\n",
       " 'OWN_CAR_AGE']"
      ]
     },
     "execution_count": 17,
     "metadata": {},
     "output_type": "execute_result"
    }
   ],
   "source": [
    "# your code goes here\n",
    "df.rename(columns={'CODE_GENDER': 'GENDER'}, inplace=True)\n",
    "df.columns.to_list()"
   ]
  },
  {
   "cell_type": "markdown",
   "id": "e06fa372",
   "metadata": {},
   "source": [
    "### DataFrameのカラム名をすべて変更"
   ]
  },
  {
   "cell_type": "markdown",
   "id": "bee74f7c",
   "metadata": {},
   "source": [
    "【演習】column名をno1～no11というstr型の名前に変更してください。「リスト内包表記」を使用すると簡単です。調べてみてください。"
   ]
  },
  {
   "cell_type": "code",
   "execution_count": 22,
   "id": "6a50c84f",
   "metadata": {},
   "outputs": [],
   "source": [
    "df = initialize(0)"
   ]
  },
  {
   "cell_type": "code",
   "execution_count": null,
   "id": "99d836d3",
   "metadata": {},
   "outputs": [
    {
     "data": {
      "text/plain": [
       "['no1', 'no2', 'no3', 'no4', 'no5', 'no6', 'no7', 'no8', 'no9', 'no10', 'no11']"
      ]
     },
     "execution_count": 20,
     "metadata": {},
     "output_type": "execute_result"
    }
   ],
   "source": [
    "# your code goes here\n",
    "for i, col in enumerate(df.columns.to_list()):\n",
    "    df.rename(columns={col: 'no'+str(i+1)}, inplace=True)\n",
    "df.columns.to_list()"
   ]
  },
  {
   "cell_type": "code",
   "execution_count": 23,
   "id": "b1d14575",
   "metadata": {},
   "outputs": [
    {
     "data": {
      "text/plain": [
       "['no1', 'no2', 'no3', 'no4', 'no5', 'no6', 'no7', 'no8', 'no9', 'no10', 'no11']"
      ]
     },
     "execution_count": 23,
     "metadata": {},
     "output_type": "execute_result"
    }
   ],
   "source": [
    "df.columns = [f'no{i+1}' for i in range(len(df.columns))]\n",
    "df.columns.to_list()"
   ]
  },
  {
   "cell_type": "markdown",
   "id": "6cb0e568",
   "metadata": {},
   "source": [
    "## 各列のデータの確認"
   ]
  },
  {
   "cell_type": "markdown",
   "id": "890f3573",
   "metadata": {},
   "source": [
    "###  任意の列のユニーク（一意）な要素を確認"
   ]
  },
  {
   "cell_type": "code",
   "execution_count": 24,
   "id": "88b52b2b",
   "metadata": {},
   "outputs": [],
   "source": [
    "df = initialize(0)"
   ]
  },
  {
   "cell_type": "markdown",
   "id": "e9215b42",
   "metadata": {},
   "source": [
    "【演習】dfのCODE_GENDER列のユニークな要素を確認してください。"
   ]
  },
  {
   "cell_type": "code",
   "execution_count": 25,
   "id": "e4f23025",
   "metadata": {},
   "outputs": [
    {
     "data": {
      "text/plain": [
       "array(['M', 'F'], dtype=object)"
      ]
     },
     "execution_count": 25,
     "metadata": {},
     "output_type": "execute_result"
    }
   ],
   "source": [
    "# your code goes here\n",
    "df['CODE_GENDER'].unique()"
   ]
  },
  {
   "cell_type": "markdown",
   "id": "9f221198",
   "metadata": {},
   "source": [
    "### 各列のユニークな要素の数を確認"
   ]
  },
  {
   "cell_type": "markdown",
   "id": "d1292901",
   "metadata": {},
   "source": [
    "【演習】dfの各列のユニークな要素の数を出力してください。"
   ]
  },
  {
   "cell_type": "code",
   "execution_count": 26,
   "id": "718505f8",
   "metadata": {},
   "outputs": [],
   "source": [
    "df = initialize(0)"
   ]
  },
  {
   "cell_type": "code",
   "execution_count": 29,
   "id": "27107b6f",
   "metadata": {},
   "outputs": [
    {
     "name": "stdout",
     "output_type": "stream",
     "text": [
      "SK_ID_CURR : 2000\n",
      "TARGET : 2\n",
      "NAME_CONTRACT_TYPE : 2\n",
      "CODE_GENDER : 2\n",
      "FLAG_OWN_CAR : 2\n",
      "FLAG_OWN_REALTY : 2\n",
      "CNT_CHILDREN : 5\n",
      "AMT_INCOME_TOTAL : 139\n",
      "FLAG_MOBIL : 1\n",
      "REGION_POPULATION_RELATIVE : 78\n",
      "OWN_CAR_AGE : 36\n"
     ]
    }
   ],
   "source": [
    "# your code goes here\n",
    "for col in df.columns:\n",
    "    print(col, ':', df[col].nunique())"
   ]
  },
  {
   "cell_type": "markdown",
   "id": "310b7305",
   "metadata": {},
   "source": [
    "### 任意の列のユニークな要素の数とその出現回数を確認"
   ]
  },
  {
   "cell_type": "markdown",
   "id": "4af8af1f",
   "metadata": {},
   "source": [
    "【演習】dfのCNT_CHILDREN列の要素とその出現回数を確認してください。"
   ]
  },
  {
   "cell_type": "code",
   "execution_count": 30,
   "id": "a81b9e83",
   "metadata": {},
   "outputs": [],
   "source": [
    "df = initialize(0)"
   ]
  },
  {
   "cell_type": "code",
   "execution_count": 34,
   "id": "4d748efb",
   "metadata": {},
   "outputs": [
    {
     "data": {
      "text/plain": [
       "CNT_CHILDREN\n",
       "0    1414\n",
       "1     388\n",
       "2     170\n",
       "3      26\n",
       "4       2\n",
       "Name: count, dtype: int64"
      ]
     },
     "execution_count": 34,
     "metadata": {},
     "output_type": "execute_result"
    }
   ],
   "source": [
    "# your code goes here\n",
    "df['CNT_CHILDREN'].value_counts()"
   ]
  },
  {
   "cell_type": "markdown",
   "id": "1e22284d",
   "metadata": {},
   "source": [
    "## データの取り出し"
   ]
  },
  {
   "cell_type": "markdown",
   "id": "2462e9ab",
   "metadata": {},
   "source": [
    "### 任意の１つの列の取り出し"
   ]
  },
  {
   "cell_type": "markdown",
   "id": "ee2274ad",
   "metadata": {},
   "source": [
    "【演習】dfのTARGETの列のみ表示してください。"
   ]
  },
  {
   "cell_type": "code",
   "execution_count": 35,
   "id": "8f2308b3",
   "metadata": {},
   "outputs": [],
   "source": [
    "df = initialize(0)"
   ]
  },
  {
   "cell_type": "code",
   "execution_count": 36,
   "id": "cdb17ec5",
   "metadata": {},
   "outputs": [
    {
     "data": {
      "text/plain": [
       "0       1\n",
       "1       0\n",
       "2       0\n",
       "3       0\n",
       "4       0\n",
       "       ..\n",
       "1995    1\n",
       "1996    0\n",
       "1997    0\n",
       "1998    0\n",
       "1999    0\n",
       "Name: TARGET, Length: 2000, dtype: int64"
      ]
     },
     "execution_count": 36,
     "metadata": {},
     "output_type": "execute_result"
    }
   ],
   "source": [
    "# your code goes here\n",
    "df['TARGET']\n"
   ]
  },
  {
   "cell_type": "markdown",
   "id": "becb08b1",
   "metadata": {},
   "source": [
    "【演習】dfの左から3番目の列のみ表示してください。"
   ]
  },
  {
   "cell_type": "code",
   "execution_count": 37,
   "id": "385d3574",
   "metadata": {},
   "outputs": [],
   "source": [
    "df = initialize(0)"
   ]
  },
  {
   "cell_type": "code",
   "execution_count": 39,
   "id": "424cc741",
   "metadata": {},
   "outputs": [
    {
     "data": {
      "text/plain": [
       "0            Cash loans\n",
       "1            Cash loans\n",
       "2       Revolving loans\n",
       "3            Cash loans\n",
       "4            Cash loans\n",
       "             ...       \n",
       "1995         Cash loans\n",
       "1996         Cash loans\n",
       "1997    Revolving loans\n",
       "1998    Revolving loans\n",
       "1999         Cash loans\n",
       "Name: NAME_CONTRACT_TYPE, Length: 2000, dtype: object"
      ]
     },
     "execution_count": 39,
     "metadata": {},
     "output_type": "execute_result"
    }
   ],
   "source": [
    "# your code goes here\n",
    "df.iloc[:, 2]"
   ]
  },
  {
   "cell_type": "markdown",
   "id": "93952e8b",
   "metadata": {},
   "source": [
    "### 複数の列の取り出し"
   ]
  },
  {
   "cell_type": "markdown",
   "id": "03886ce0",
   "metadata": {},
   "source": [
    "【演習】dfのTARGET列とCODE_GENDER列のみ表示してください。"
   ]
  },
  {
   "cell_type": "code",
   "execution_count": 40,
   "id": "5c835a0e",
   "metadata": {},
   "outputs": [],
   "source": [
    "df = initialize(0)"
   ]
  },
  {
   "cell_type": "code",
   "execution_count": 41,
   "id": "e1b184ee",
   "metadata": {},
   "outputs": [
    {
     "data": {
      "text/html": [
       "<div>\n",
       "<style scoped>\n",
       "    .dataframe tbody tr th:only-of-type {\n",
       "        vertical-align: middle;\n",
       "    }\n",
       "\n",
       "    .dataframe tbody tr th {\n",
       "        vertical-align: top;\n",
       "    }\n",
       "\n",
       "    .dataframe thead th {\n",
       "        text-align: right;\n",
       "    }\n",
       "</style>\n",
       "<table border=\"1\" class=\"dataframe\">\n",
       "  <thead>\n",
       "    <tr style=\"text-align: right;\">\n",
       "      <th></th>\n",
       "      <th>TARGET</th>\n",
       "      <th>CODE_GENDER</th>\n",
       "    </tr>\n",
       "  </thead>\n",
       "  <tbody>\n",
       "    <tr>\n",
       "      <th>0</th>\n",
       "      <td>1</td>\n",
       "      <td>M</td>\n",
       "    </tr>\n",
       "    <tr>\n",
       "      <th>1</th>\n",
       "      <td>0</td>\n",
       "      <td>F</td>\n",
       "    </tr>\n",
       "    <tr>\n",
       "      <th>2</th>\n",
       "      <td>0</td>\n",
       "      <td>M</td>\n",
       "    </tr>\n",
       "    <tr>\n",
       "      <th>3</th>\n",
       "      <td>0</td>\n",
       "      <td>F</td>\n",
       "    </tr>\n",
       "    <tr>\n",
       "      <th>4</th>\n",
       "      <td>0</td>\n",
       "      <td>M</td>\n",
       "    </tr>\n",
       "    <tr>\n",
       "      <th>...</th>\n",
       "      <td>...</td>\n",
       "      <td>...</td>\n",
       "    </tr>\n",
       "    <tr>\n",
       "      <th>1995</th>\n",
       "      <td>1</td>\n",
       "      <td>F</td>\n",
       "    </tr>\n",
       "    <tr>\n",
       "      <th>1996</th>\n",
       "      <td>0</td>\n",
       "      <td>M</td>\n",
       "    </tr>\n",
       "    <tr>\n",
       "      <th>1997</th>\n",
       "      <td>0</td>\n",
       "      <td>F</td>\n",
       "    </tr>\n",
       "    <tr>\n",
       "      <th>1998</th>\n",
       "      <td>0</td>\n",
       "      <td>F</td>\n",
       "    </tr>\n",
       "    <tr>\n",
       "      <th>1999</th>\n",
       "      <td>0</td>\n",
       "      <td>M</td>\n",
       "    </tr>\n",
       "  </tbody>\n",
       "</table>\n",
       "<p>2000 rows × 2 columns</p>\n",
       "</div>"
      ],
      "text/plain": [
       "      TARGET CODE_GENDER\n",
       "0          1           M\n",
       "1          0           F\n",
       "2          0           M\n",
       "3          0           F\n",
       "4          0           M\n",
       "...      ...         ...\n",
       "1995       1           F\n",
       "1996       0           M\n",
       "1997       0           F\n",
       "1998       0           F\n",
       "1999       0           M\n",
       "\n",
       "[2000 rows x 2 columns]"
      ]
     },
     "execution_count": 41,
     "metadata": {},
     "output_type": "execute_result"
    }
   ],
   "source": [
    "# your code goes here\n",
    "df[['TARGET', 'CODE_GENDER']]"
   ]
  },
  {
   "cell_type": "markdown",
   "id": "4eaa34bd",
   "metadata": {},
   "source": [
    "【演習】dfのTARGET列とCODE_GENDER列までの列を表示してください。"
   ]
  },
  {
   "cell_type": "code",
   "execution_count": 42,
   "id": "c4ab19c6",
   "metadata": {},
   "outputs": [],
   "source": [
    "df = initialize(0)"
   ]
  },
  {
   "cell_type": "code",
   "execution_count": 43,
   "id": "fd9fcb58",
   "metadata": {},
   "outputs": [
    {
     "data": {
      "text/html": [
       "<div>\n",
       "<style scoped>\n",
       "    .dataframe tbody tr th:only-of-type {\n",
       "        vertical-align: middle;\n",
       "    }\n",
       "\n",
       "    .dataframe tbody tr th {\n",
       "        vertical-align: top;\n",
       "    }\n",
       "\n",
       "    .dataframe thead th {\n",
       "        text-align: right;\n",
       "    }\n",
       "</style>\n",
       "<table border=\"1\" class=\"dataframe\">\n",
       "  <thead>\n",
       "    <tr style=\"text-align: right;\">\n",
       "      <th></th>\n",
       "      <th>TARGET</th>\n",
       "      <th>NAME_CONTRACT_TYPE</th>\n",
       "      <th>CODE_GENDER</th>\n",
       "    </tr>\n",
       "  </thead>\n",
       "  <tbody>\n",
       "    <tr>\n",
       "      <th>0</th>\n",
       "      <td>1</td>\n",
       "      <td>Cash loans</td>\n",
       "      <td>M</td>\n",
       "    </tr>\n",
       "    <tr>\n",
       "      <th>1</th>\n",
       "      <td>0</td>\n",
       "      <td>Cash loans</td>\n",
       "      <td>F</td>\n",
       "    </tr>\n",
       "    <tr>\n",
       "      <th>2</th>\n",
       "      <td>0</td>\n",
       "      <td>Revolving loans</td>\n",
       "      <td>M</td>\n",
       "    </tr>\n",
       "    <tr>\n",
       "      <th>3</th>\n",
       "      <td>0</td>\n",
       "      <td>Cash loans</td>\n",
       "      <td>F</td>\n",
       "    </tr>\n",
       "    <tr>\n",
       "      <th>4</th>\n",
       "      <td>0</td>\n",
       "      <td>Cash loans</td>\n",
       "      <td>M</td>\n",
       "    </tr>\n",
       "    <tr>\n",
       "      <th>...</th>\n",
       "      <td>...</td>\n",
       "      <td>...</td>\n",
       "      <td>...</td>\n",
       "    </tr>\n",
       "    <tr>\n",
       "      <th>1995</th>\n",
       "      <td>1</td>\n",
       "      <td>Cash loans</td>\n",
       "      <td>F</td>\n",
       "    </tr>\n",
       "    <tr>\n",
       "      <th>1996</th>\n",
       "      <td>0</td>\n",
       "      <td>Cash loans</td>\n",
       "      <td>M</td>\n",
       "    </tr>\n",
       "    <tr>\n",
       "      <th>1997</th>\n",
       "      <td>0</td>\n",
       "      <td>Revolving loans</td>\n",
       "      <td>F</td>\n",
       "    </tr>\n",
       "    <tr>\n",
       "      <th>1998</th>\n",
       "      <td>0</td>\n",
       "      <td>Revolving loans</td>\n",
       "      <td>F</td>\n",
       "    </tr>\n",
       "    <tr>\n",
       "      <th>1999</th>\n",
       "      <td>0</td>\n",
       "      <td>Cash loans</td>\n",
       "      <td>M</td>\n",
       "    </tr>\n",
       "  </tbody>\n",
       "</table>\n",
       "<p>2000 rows × 3 columns</p>\n",
       "</div>"
      ],
      "text/plain": [
       "      TARGET NAME_CONTRACT_TYPE CODE_GENDER\n",
       "0          1         Cash loans           M\n",
       "1          0         Cash loans           F\n",
       "2          0    Revolving loans           M\n",
       "3          0         Cash loans           F\n",
       "4          0         Cash loans           M\n",
       "...      ...                ...         ...\n",
       "1995       1         Cash loans           F\n",
       "1996       0         Cash loans           M\n",
       "1997       0    Revolving loans           F\n",
       "1998       0    Revolving loans           F\n",
       "1999       0         Cash loans           M\n",
       "\n",
       "[2000 rows x 3 columns]"
      ]
     },
     "execution_count": 43,
     "metadata": {},
     "output_type": "execute_result"
    }
   ],
   "source": [
    "# your code goes here\n",
    "df.loc[:, 'TARGET': 'CODE_GENDER']"
   ]
  },
  {
   "cell_type": "markdown",
   "id": "8431ad57",
   "metadata": {},
   "source": [
    "### 条件検索"
   ]
  },
  {
   "cell_type": "markdown",
   "id": "5b19d4f1",
   "metadata": {},
   "source": [
    "【演習】CODE_GENDER列が'F'かつAMT_INCOME_TOTAL列が500000以上のデータポイントを表示してください。"
   ]
  },
  {
   "cell_type": "code",
   "execution_count": 44,
   "id": "e35c4c5d",
   "metadata": {},
   "outputs": [],
   "source": [
    "df = initialize(0)"
   ]
  },
  {
   "cell_type": "code",
   "execution_count": 45,
   "id": "ed6253a6",
   "metadata": {},
   "outputs": [
    {
     "data": {
      "text/html": [
       "<div>\n",
       "<style scoped>\n",
       "    .dataframe tbody tr th:only-of-type {\n",
       "        vertical-align: middle;\n",
       "    }\n",
       "\n",
       "    .dataframe tbody tr th {\n",
       "        vertical-align: top;\n",
       "    }\n",
       "\n",
       "    .dataframe thead th {\n",
       "        text-align: right;\n",
       "    }\n",
       "</style>\n",
       "<table border=\"1\" class=\"dataframe\">\n",
       "  <thead>\n",
       "    <tr style=\"text-align: right;\">\n",
       "      <th></th>\n",
       "      <th>SK_ID_CURR</th>\n",
       "      <th>TARGET</th>\n",
       "      <th>NAME_CONTRACT_TYPE</th>\n",
       "      <th>CODE_GENDER</th>\n",
       "      <th>FLAG_OWN_CAR</th>\n",
       "      <th>FLAG_OWN_REALTY</th>\n",
       "      <th>CNT_CHILDREN</th>\n",
       "      <th>AMT_INCOME_TOTAL</th>\n",
       "      <th>FLAG_MOBIL</th>\n",
       "      <th>REGION_POPULATION_RELATIVE</th>\n",
       "      <th>OWN_CAR_AGE</th>\n",
       "    </tr>\n",
       "  </thead>\n",
       "  <tbody>\n",
       "    <tr>\n",
       "      <th>332</th>\n",
       "      <td>100380</td>\n",
       "      <td>0</td>\n",
       "      <td>Cash loans</td>\n",
       "      <td>F</td>\n",
       "      <td>N</td>\n",
       "      <td>Y</td>\n",
       "      <td>0</td>\n",
       "      <td>630000.0</td>\n",
       "      <td>1</td>\n",
       "      <td>0.072508</td>\n",
       "      <td>NaN</td>\n",
       "    </tr>\n",
       "    <tr>\n",
       "      <th>930</th>\n",
       "      <td>101073</td>\n",
       "      <td>1</td>\n",
       "      <td>Cash loans</td>\n",
       "      <td>F</td>\n",
       "      <td>Y</td>\n",
       "      <td>N</td>\n",
       "      <td>0</td>\n",
       "      <td>540000.0</td>\n",
       "      <td>1</td>\n",
       "      <td>0.008474</td>\n",
       "      <td>18.0</td>\n",
       "    </tr>\n",
       "    <tr>\n",
       "      <th>1064</th>\n",
       "      <td>101235</td>\n",
       "      <td>0</td>\n",
       "      <td>Revolving loans</td>\n",
       "      <td>F</td>\n",
       "      <td>N</td>\n",
       "      <td>Y</td>\n",
       "      <td>0</td>\n",
       "      <td>720000.0</td>\n",
       "      <td>1</td>\n",
       "      <td>0.010147</td>\n",
       "      <td>NaN</td>\n",
       "    </tr>\n",
       "    <tr>\n",
       "      <th>1568</th>\n",
       "      <td>101839</td>\n",
       "      <td>0</td>\n",
       "      <td>Cash loans</td>\n",
       "      <td>F</td>\n",
       "      <td>N</td>\n",
       "      <td>N</td>\n",
       "      <td>0</td>\n",
       "      <td>630000.0</td>\n",
       "      <td>1</td>\n",
       "      <td>0.020713</td>\n",
       "      <td>NaN</td>\n",
       "    </tr>\n",
       "    <tr>\n",
       "      <th>1586</th>\n",
       "      <td>101857</td>\n",
       "      <td>0</td>\n",
       "      <td>Cash loans</td>\n",
       "      <td>F</td>\n",
       "      <td>N</td>\n",
       "      <td>Y</td>\n",
       "      <td>0</td>\n",
       "      <td>720000.0</td>\n",
       "      <td>1</td>\n",
       "      <td>0.046220</td>\n",
       "      <td>NaN</td>\n",
       "    </tr>\n",
       "    <tr>\n",
       "      <th>1644</th>\n",
       "      <td>101929</td>\n",
       "      <td>1</td>\n",
       "      <td>Revolving loans</td>\n",
       "      <td>F</td>\n",
       "      <td>Y</td>\n",
       "      <td>Y</td>\n",
       "      <td>0</td>\n",
       "      <td>697500.0</td>\n",
       "      <td>1</td>\n",
       "      <td>0.046220</td>\n",
       "      <td>7.0</td>\n",
       "    </tr>\n",
       "    <tr>\n",
       "      <th>1723</th>\n",
       "      <td>102015</td>\n",
       "      <td>0</td>\n",
       "      <td>Cash loans</td>\n",
       "      <td>F</td>\n",
       "      <td>N</td>\n",
       "      <td>Y</td>\n",
       "      <td>0</td>\n",
       "      <td>1935000.0</td>\n",
       "      <td>1</td>\n",
       "      <td>0.007114</td>\n",
       "      <td>NaN</td>\n",
       "    </tr>\n",
       "    <tr>\n",
       "      <th>1793</th>\n",
       "      <td>102097</td>\n",
       "      <td>0</td>\n",
       "      <td>Revolving loans</td>\n",
       "      <td>F</td>\n",
       "      <td>Y</td>\n",
       "      <td>Y</td>\n",
       "      <td>1</td>\n",
       "      <td>540000.0</td>\n",
       "      <td>1</td>\n",
       "      <td>0.032561</td>\n",
       "      <td>16.0</td>\n",
       "    </tr>\n",
       "  </tbody>\n",
       "</table>\n",
       "</div>"
      ],
      "text/plain": [
       "      SK_ID_CURR  TARGET NAME_CONTRACT_TYPE CODE_GENDER FLAG_OWN_CAR  \\\n",
       "332       100380       0         Cash loans           F            N   \n",
       "930       101073       1         Cash loans           F            Y   \n",
       "1064      101235       0    Revolving loans           F            N   \n",
       "1568      101839       0         Cash loans           F            N   \n",
       "1586      101857       0         Cash loans           F            N   \n",
       "1644      101929       1    Revolving loans           F            Y   \n",
       "1723      102015       0         Cash loans           F            N   \n",
       "1793      102097       0    Revolving loans           F            Y   \n",
       "\n",
       "     FLAG_OWN_REALTY  CNT_CHILDREN  AMT_INCOME_TOTAL  FLAG_MOBIL  \\\n",
       "332                Y             0          630000.0           1   \n",
       "930                N             0          540000.0           1   \n",
       "1064               Y             0          720000.0           1   \n",
       "1568               N             0          630000.0           1   \n",
       "1586               Y             0          720000.0           1   \n",
       "1644               Y             0          697500.0           1   \n",
       "1723               Y             0         1935000.0           1   \n",
       "1793               Y             1          540000.0           1   \n",
       "\n",
       "      REGION_POPULATION_RELATIVE  OWN_CAR_AGE  \n",
       "332                     0.072508          NaN  \n",
       "930                     0.008474         18.0  \n",
       "1064                    0.010147          NaN  \n",
       "1568                    0.020713          NaN  \n",
       "1586                    0.046220          NaN  \n",
       "1644                    0.046220          7.0  \n",
       "1723                    0.007114          NaN  \n",
       "1793                    0.032561         16.0  "
      ]
     },
     "execution_count": 45,
     "metadata": {},
     "output_type": "execute_result"
    }
   ],
   "source": [
    "# your code goes here\n",
    "df[(df['CODE_GENDER'] == 'F') & (df['AMT_INCOME_TOTAL'] >= 500000)]"
   ]
  },
  {
   "cell_type": "markdown",
   "id": "ef2545b4",
   "metadata": {},
   "source": [
    "## ソート"
   ]
  },
  {
   "cell_type": "markdown",
   "id": "eaf53352",
   "metadata": {},
   "source": [
    "### 任意の一列で昇順ソート"
   ]
  },
  {
   "cell_type": "markdown",
   "id": "a902d6a7",
   "metadata": {},
   "source": [
    "【演習】dfのAMT_INCOME_TOTALの列で昇順ソートして表示してください。"
   ]
  },
  {
   "cell_type": "code",
   "execution_count": 46,
   "id": "1e6e5621",
   "metadata": {},
   "outputs": [],
   "source": [
    "df = initialize(0)"
   ]
  },
  {
   "cell_type": "code",
   "execution_count": 48,
   "id": "4e1fb4e6",
   "metadata": {},
   "outputs": [
    {
     "data": {
      "text/html": [
       "<div>\n",
       "<style scoped>\n",
       "    .dataframe tbody tr th:only-of-type {\n",
       "        vertical-align: middle;\n",
       "    }\n",
       "\n",
       "    .dataframe tbody tr th {\n",
       "        vertical-align: top;\n",
       "    }\n",
       "\n",
       "    .dataframe thead th {\n",
       "        text-align: right;\n",
       "    }\n",
       "</style>\n",
       "<table border=\"1\" class=\"dataframe\">\n",
       "  <thead>\n",
       "    <tr style=\"text-align: right;\">\n",
       "      <th></th>\n",
       "      <th>SK_ID_CURR</th>\n",
       "      <th>TARGET</th>\n",
       "      <th>NAME_CONTRACT_TYPE</th>\n",
       "      <th>CODE_GENDER</th>\n",
       "      <th>FLAG_OWN_CAR</th>\n",
       "      <th>FLAG_OWN_REALTY</th>\n",
       "      <th>CNT_CHILDREN</th>\n",
       "      <th>AMT_INCOME_TOTAL</th>\n",
       "      <th>FLAG_MOBIL</th>\n",
       "      <th>REGION_POPULATION_RELATIVE</th>\n",
       "      <th>OWN_CAR_AGE</th>\n",
       "    </tr>\n",
       "  </thead>\n",
       "  <tbody>\n",
       "    <tr>\n",
       "      <th>1678</th>\n",
       "      <td>101965</td>\n",
       "      <td>0</td>\n",
       "      <td>Cash loans</td>\n",
       "      <td>F</td>\n",
       "      <td>N</td>\n",
       "      <td>N</td>\n",
       "      <td>0</td>\n",
       "      <td>25650.0</td>\n",
       "      <td>1</td>\n",
       "      <td>0.018850</td>\n",
       "      <td>NaN</td>\n",
       "    </tr>\n",
       "    <tr>\n",
       "      <th>495</th>\n",
       "      <td>100572</td>\n",
       "      <td>0</td>\n",
       "      <td>Cash loans</td>\n",
       "      <td>F</td>\n",
       "      <td>N</td>\n",
       "      <td>Y</td>\n",
       "      <td>0</td>\n",
       "      <td>31500.0</td>\n",
       "      <td>1</td>\n",
       "      <td>0.031329</td>\n",
       "      <td>NaN</td>\n",
       "    </tr>\n",
       "    <tr>\n",
       "      <th>283</th>\n",
       "      <td>100326</td>\n",
       "      <td>1</td>\n",
       "      <td>Cash loans</td>\n",
       "      <td>M</td>\n",
       "      <td>Y</td>\n",
       "      <td>Y</td>\n",
       "      <td>0</td>\n",
       "      <td>36000.0</td>\n",
       "      <td>1</td>\n",
       "      <td>0.018209</td>\n",
       "      <td>27.0</td>\n",
       "    </tr>\n",
       "    <tr>\n",
       "      <th>1221</th>\n",
       "      <td>101442</td>\n",
       "      <td>0</td>\n",
       "      <td>Cash loans</td>\n",
       "      <td>F</td>\n",
       "      <td>N</td>\n",
       "      <td>N</td>\n",
       "      <td>0</td>\n",
       "      <td>36000.0</td>\n",
       "      <td>1</td>\n",
       "      <td>0.018850</td>\n",
       "      <td>NaN</td>\n",
       "    </tr>\n",
       "    <tr>\n",
       "      <th>651</th>\n",
       "      <td>100743</td>\n",
       "      <td>0</td>\n",
       "      <td>Cash loans</td>\n",
       "      <td>F</td>\n",
       "      <td>N</td>\n",
       "      <td>Y</td>\n",
       "      <td>0</td>\n",
       "      <td>38250.0</td>\n",
       "      <td>1</td>\n",
       "      <td>0.018850</td>\n",
       "      <td>NaN</td>\n",
       "    </tr>\n",
       "    <tr>\n",
       "      <th>...</th>\n",
       "      <td>...</td>\n",
       "      <td>...</td>\n",
       "      <td>...</td>\n",
       "      <td>...</td>\n",
       "      <td>...</td>\n",
       "      <td>...</td>\n",
       "      <td>...</td>\n",
       "      <td>...</td>\n",
       "      <td>...</td>\n",
       "      <td>...</td>\n",
       "      <td>...</td>\n",
       "    </tr>\n",
       "    <tr>\n",
       "      <th>1064</th>\n",
       "      <td>101235</td>\n",
       "      <td>0</td>\n",
       "      <td>Revolving loans</td>\n",
       "      <td>F</td>\n",
       "      <td>N</td>\n",
       "      <td>Y</td>\n",
       "      <td>0</td>\n",
       "      <td>720000.0</td>\n",
       "      <td>1</td>\n",
       "      <td>0.010147</td>\n",
       "      <td>NaN</td>\n",
       "    </tr>\n",
       "    <tr>\n",
       "      <th>319</th>\n",
       "      <td>100366</td>\n",
       "      <td>0</td>\n",
       "      <td>Revolving loans</td>\n",
       "      <td>M</td>\n",
       "      <td>Y</td>\n",
       "      <td>Y</td>\n",
       "      <td>0</td>\n",
       "      <td>765000.0</td>\n",
       "      <td>1</td>\n",
       "      <td>0.002506</td>\n",
       "      <td>3.0</td>\n",
       "    </tr>\n",
       "    <tr>\n",
       "      <th>1238</th>\n",
       "      <td>101461</td>\n",
       "      <td>0</td>\n",
       "      <td>Cash loans</td>\n",
       "      <td>M</td>\n",
       "      <td>Y</td>\n",
       "      <td>Y</td>\n",
       "      <td>0</td>\n",
       "      <td>810000.0</td>\n",
       "      <td>1</td>\n",
       "      <td>0.072508</td>\n",
       "      <td>5.0</td>\n",
       "    </tr>\n",
       "    <tr>\n",
       "      <th>1504</th>\n",
       "      <td>101769</td>\n",
       "      <td>0</td>\n",
       "      <td>Revolving loans</td>\n",
       "      <td>M</td>\n",
       "      <td>Y</td>\n",
       "      <td>Y</td>\n",
       "      <td>0</td>\n",
       "      <td>1080000.0</td>\n",
       "      <td>1</td>\n",
       "      <td>0.072508</td>\n",
       "      <td>7.0</td>\n",
       "    </tr>\n",
       "    <tr>\n",
       "      <th>1723</th>\n",
       "      <td>102015</td>\n",
       "      <td>0</td>\n",
       "      <td>Cash loans</td>\n",
       "      <td>F</td>\n",
       "      <td>N</td>\n",
       "      <td>Y</td>\n",
       "      <td>0</td>\n",
       "      <td>1935000.0</td>\n",
       "      <td>1</td>\n",
       "      <td>0.007114</td>\n",
       "      <td>NaN</td>\n",
       "    </tr>\n",
       "  </tbody>\n",
       "</table>\n",
       "<p>2000 rows × 11 columns</p>\n",
       "</div>"
      ],
      "text/plain": [
       "      SK_ID_CURR  TARGET NAME_CONTRACT_TYPE CODE_GENDER FLAG_OWN_CAR  \\\n",
       "1678      101965       0         Cash loans           F            N   \n",
       "495       100572       0         Cash loans           F            N   \n",
       "283       100326       1         Cash loans           M            Y   \n",
       "1221      101442       0         Cash loans           F            N   \n",
       "651       100743       0         Cash loans           F            N   \n",
       "...          ...     ...                ...         ...          ...   \n",
       "1064      101235       0    Revolving loans           F            N   \n",
       "319       100366       0    Revolving loans           M            Y   \n",
       "1238      101461       0         Cash loans           M            Y   \n",
       "1504      101769       0    Revolving loans           M            Y   \n",
       "1723      102015       0         Cash loans           F            N   \n",
       "\n",
       "     FLAG_OWN_REALTY  CNT_CHILDREN  AMT_INCOME_TOTAL  FLAG_MOBIL  \\\n",
       "1678               N             0           25650.0           1   \n",
       "495                Y             0           31500.0           1   \n",
       "283                Y             0           36000.0           1   \n",
       "1221               N             0           36000.0           1   \n",
       "651                Y             0           38250.0           1   \n",
       "...              ...           ...               ...         ...   \n",
       "1064               Y             0          720000.0           1   \n",
       "319                Y             0          765000.0           1   \n",
       "1238               Y             0          810000.0           1   \n",
       "1504               Y             0         1080000.0           1   \n",
       "1723               Y             0         1935000.0           1   \n",
       "\n",
       "      REGION_POPULATION_RELATIVE  OWN_CAR_AGE  \n",
       "1678                    0.018850          NaN  \n",
       "495                     0.031329          NaN  \n",
       "283                     0.018209         27.0  \n",
       "1221                    0.018850          NaN  \n",
       "651                     0.018850          NaN  \n",
       "...                          ...          ...  \n",
       "1064                    0.010147          NaN  \n",
       "319                     0.002506          3.0  \n",
       "1238                    0.072508          5.0  \n",
       "1504                    0.072508          7.0  \n",
       "1723                    0.007114          NaN  \n",
       "\n",
       "[2000 rows x 11 columns]"
      ]
     },
     "execution_count": 48,
     "metadata": {},
     "output_type": "execute_result"
    }
   ],
   "source": [
    "# your code goes here\n",
    "df.sort_values(by='AMT_INCOME_TOTAL', ascending=True)"
   ]
  },
  {
   "cell_type": "markdown",
   "id": "2465d788",
   "metadata": {},
   "source": [
    "### 任意の一列で降順ソート\n"
   ]
  },
  {
   "cell_type": "markdown",
   "id": "54b22885",
   "metadata": {},
   "source": [
    "【演習】dfのAMT_INCOME_TOTALの列で降順ソート表示してください。"
   ]
  },
  {
   "cell_type": "code",
   "execution_count": 49,
   "id": "6acedf51",
   "metadata": {},
   "outputs": [],
   "source": [
    "df = initialize(0)"
   ]
  },
  {
   "cell_type": "code",
   "execution_count": 50,
   "id": "b8f7f018",
   "metadata": {},
   "outputs": [
    {
     "data": {
      "text/html": [
       "<div>\n",
       "<style scoped>\n",
       "    .dataframe tbody tr th:only-of-type {\n",
       "        vertical-align: middle;\n",
       "    }\n",
       "\n",
       "    .dataframe tbody tr th {\n",
       "        vertical-align: top;\n",
       "    }\n",
       "\n",
       "    .dataframe thead th {\n",
       "        text-align: right;\n",
       "    }\n",
       "</style>\n",
       "<table border=\"1\" class=\"dataframe\">\n",
       "  <thead>\n",
       "    <tr style=\"text-align: right;\">\n",
       "      <th></th>\n",
       "      <th>SK_ID_CURR</th>\n",
       "      <th>TARGET</th>\n",
       "      <th>NAME_CONTRACT_TYPE</th>\n",
       "      <th>CODE_GENDER</th>\n",
       "      <th>FLAG_OWN_CAR</th>\n",
       "      <th>FLAG_OWN_REALTY</th>\n",
       "      <th>CNT_CHILDREN</th>\n",
       "      <th>AMT_INCOME_TOTAL</th>\n",
       "      <th>FLAG_MOBIL</th>\n",
       "      <th>REGION_POPULATION_RELATIVE</th>\n",
       "      <th>OWN_CAR_AGE</th>\n",
       "    </tr>\n",
       "  </thead>\n",
       "  <tbody>\n",
       "    <tr>\n",
       "      <th>1723</th>\n",
       "      <td>102015</td>\n",
       "      <td>0</td>\n",
       "      <td>Cash loans</td>\n",
       "      <td>F</td>\n",
       "      <td>N</td>\n",
       "      <td>Y</td>\n",
       "      <td>0</td>\n",
       "      <td>1935000.0</td>\n",
       "      <td>1</td>\n",
       "      <td>0.007114</td>\n",
       "      <td>NaN</td>\n",
       "    </tr>\n",
       "    <tr>\n",
       "      <th>1504</th>\n",
       "      <td>101769</td>\n",
       "      <td>0</td>\n",
       "      <td>Revolving loans</td>\n",
       "      <td>M</td>\n",
       "      <td>Y</td>\n",
       "      <td>Y</td>\n",
       "      <td>0</td>\n",
       "      <td>1080000.0</td>\n",
       "      <td>1</td>\n",
       "      <td>0.072508</td>\n",
       "      <td>7.0</td>\n",
       "    </tr>\n",
       "    <tr>\n",
       "      <th>1238</th>\n",
       "      <td>101461</td>\n",
       "      <td>0</td>\n",
       "      <td>Cash loans</td>\n",
       "      <td>M</td>\n",
       "      <td>Y</td>\n",
       "      <td>Y</td>\n",
       "      <td>0</td>\n",
       "      <td>810000.0</td>\n",
       "      <td>1</td>\n",
       "      <td>0.072508</td>\n",
       "      <td>5.0</td>\n",
       "    </tr>\n",
       "    <tr>\n",
       "      <th>319</th>\n",
       "      <td>100366</td>\n",
       "      <td>0</td>\n",
       "      <td>Revolving loans</td>\n",
       "      <td>M</td>\n",
       "      <td>Y</td>\n",
       "      <td>Y</td>\n",
       "      <td>0</td>\n",
       "      <td>765000.0</td>\n",
       "      <td>1</td>\n",
       "      <td>0.002506</td>\n",
       "      <td>3.0</td>\n",
       "    </tr>\n",
       "    <tr>\n",
       "      <th>1586</th>\n",
       "      <td>101857</td>\n",
       "      <td>0</td>\n",
       "      <td>Cash loans</td>\n",
       "      <td>F</td>\n",
       "      <td>N</td>\n",
       "      <td>Y</td>\n",
       "      <td>0</td>\n",
       "      <td>720000.0</td>\n",
       "      <td>1</td>\n",
       "      <td>0.046220</td>\n",
       "      <td>NaN</td>\n",
       "    </tr>\n",
       "    <tr>\n",
       "      <th>...</th>\n",
       "      <td>...</td>\n",
       "      <td>...</td>\n",
       "      <td>...</td>\n",
       "      <td>...</td>\n",
       "      <td>...</td>\n",
       "      <td>...</td>\n",
       "      <td>...</td>\n",
       "      <td>...</td>\n",
       "      <td>...</td>\n",
       "      <td>...</td>\n",
       "      <td>...</td>\n",
       "    </tr>\n",
       "    <tr>\n",
       "      <th>651</th>\n",
       "      <td>100743</td>\n",
       "      <td>0</td>\n",
       "      <td>Cash loans</td>\n",
       "      <td>F</td>\n",
       "      <td>N</td>\n",
       "      <td>Y</td>\n",
       "      <td>0</td>\n",
       "      <td>38250.0</td>\n",
       "      <td>1</td>\n",
       "      <td>0.018850</td>\n",
       "      <td>NaN</td>\n",
       "    </tr>\n",
       "    <tr>\n",
       "      <th>1221</th>\n",
       "      <td>101442</td>\n",
       "      <td>0</td>\n",
       "      <td>Cash loans</td>\n",
       "      <td>F</td>\n",
       "      <td>N</td>\n",
       "      <td>N</td>\n",
       "      <td>0</td>\n",
       "      <td>36000.0</td>\n",
       "      <td>1</td>\n",
       "      <td>0.018850</td>\n",
       "      <td>NaN</td>\n",
       "    </tr>\n",
       "    <tr>\n",
       "      <th>283</th>\n",
       "      <td>100326</td>\n",
       "      <td>1</td>\n",
       "      <td>Cash loans</td>\n",
       "      <td>M</td>\n",
       "      <td>Y</td>\n",
       "      <td>Y</td>\n",
       "      <td>0</td>\n",
       "      <td>36000.0</td>\n",
       "      <td>1</td>\n",
       "      <td>0.018209</td>\n",
       "      <td>27.0</td>\n",
       "    </tr>\n",
       "    <tr>\n",
       "      <th>495</th>\n",
       "      <td>100572</td>\n",
       "      <td>0</td>\n",
       "      <td>Cash loans</td>\n",
       "      <td>F</td>\n",
       "      <td>N</td>\n",
       "      <td>Y</td>\n",
       "      <td>0</td>\n",
       "      <td>31500.0</td>\n",
       "      <td>1</td>\n",
       "      <td>0.031329</td>\n",
       "      <td>NaN</td>\n",
       "    </tr>\n",
       "    <tr>\n",
       "      <th>1678</th>\n",
       "      <td>101965</td>\n",
       "      <td>0</td>\n",
       "      <td>Cash loans</td>\n",
       "      <td>F</td>\n",
       "      <td>N</td>\n",
       "      <td>N</td>\n",
       "      <td>0</td>\n",
       "      <td>25650.0</td>\n",
       "      <td>1</td>\n",
       "      <td>0.018850</td>\n",
       "      <td>NaN</td>\n",
       "    </tr>\n",
       "  </tbody>\n",
       "</table>\n",
       "<p>2000 rows × 11 columns</p>\n",
       "</div>"
      ],
      "text/plain": [
       "      SK_ID_CURR  TARGET NAME_CONTRACT_TYPE CODE_GENDER FLAG_OWN_CAR  \\\n",
       "1723      102015       0         Cash loans           F            N   \n",
       "1504      101769       0    Revolving loans           M            Y   \n",
       "1238      101461       0         Cash loans           M            Y   \n",
       "319       100366       0    Revolving loans           M            Y   \n",
       "1586      101857       0         Cash loans           F            N   \n",
       "...          ...     ...                ...         ...          ...   \n",
       "651       100743       0         Cash loans           F            N   \n",
       "1221      101442       0         Cash loans           F            N   \n",
       "283       100326       1         Cash loans           M            Y   \n",
       "495       100572       0         Cash loans           F            N   \n",
       "1678      101965       0         Cash loans           F            N   \n",
       "\n",
       "     FLAG_OWN_REALTY  CNT_CHILDREN  AMT_INCOME_TOTAL  FLAG_MOBIL  \\\n",
       "1723               Y             0         1935000.0           1   \n",
       "1504               Y             0         1080000.0           1   \n",
       "1238               Y             0          810000.0           1   \n",
       "319                Y             0          765000.0           1   \n",
       "1586               Y             0          720000.0           1   \n",
       "...              ...           ...               ...         ...   \n",
       "651                Y             0           38250.0           1   \n",
       "1221               N             0           36000.0           1   \n",
       "283                Y             0           36000.0           1   \n",
       "495                Y             0           31500.0           1   \n",
       "1678               N             0           25650.0           1   \n",
       "\n",
       "      REGION_POPULATION_RELATIVE  OWN_CAR_AGE  \n",
       "1723                    0.007114          NaN  \n",
       "1504                    0.072508          7.0  \n",
       "1238                    0.072508          5.0  \n",
       "319                     0.002506          3.0  \n",
       "1586                    0.046220          NaN  \n",
       "...                          ...          ...  \n",
       "651                     0.018850          NaN  \n",
       "1221                    0.018850          NaN  \n",
       "283                     0.018209         27.0  \n",
       "495                     0.031329          NaN  \n",
       "1678                    0.018850          NaN  \n",
       "\n",
       "[2000 rows x 11 columns]"
      ]
     },
     "execution_count": 50,
     "metadata": {},
     "output_type": "execute_result"
    }
   ],
   "source": [
    "# your code goes here\n",
    "df.sort_values(by='AMT_INCOME_TOTAL', ascending=False)"
   ]
  },
  {
   "cell_type": "markdown",
   "id": "4cbf3e86",
   "metadata": {},
   "source": [
    "## 統計量"
   ]
  },
  {
   "cell_type": "markdown",
   "id": "cea7b81e",
   "metadata": {},
   "source": [
    "### 基本統計量"
   ]
  },
  {
   "cell_type": "markdown",
   "id": "4bce0453",
   "metadata": {},
   "source": [
    "【演習】dfのAMT_INCOME_TOTAL列の平均、中央値、合計、最大値、最小値、最頻値をそれぞれ出力してください。"
   ]
  },
  {
   "cell_type": "code",
   "execution_count": 51,
   "id": "96a8f500",
   "metadata": {},
   "outputs": [],
   "source": [
    "df = initialize(0)"
   ]
  },
  {
   "cell_type": "code",
   "execution_count": 54,
   "id": "c6365a0c",
   "metadata": {},
   "outputs": [
    {
     "name": "stdout",
     "output_type": "stream",
     "text": [
      "170118.76182749998\n",
      "144000.0\n",
      "2000\n",
      "1935000.0\n",
      "25650.0\n",
      "0    112500.0\n",
      "Name: AMT_INCOME_TOTAL, dtype: float64\n"
     ]
    }
   ],
   "source": [
    "# your code goes here\n",
    "print(df['AMT_INCOME_TOTAL'].mean())\n",
    "print(df['AMT_INCOME_TOTAL'].median())\n",
    "print(df['AMT_INCOME_TOTAL'].count())\n",
    "print(df['AMT_INCOME_TOTAL'].max())\n",
    "print(df['AMT_INCOME_TOTAL'].min())\n",
    "print(df['AMT_INCOME_TOTAL'].mode())"
   ]
  },
  {
   "cell_type": "markdown",
   "id": "130a7854",
   "metadata": {},
   "source": [
    "### 要約統計量"
   ]
  },
  {
   "cell_type": "markdown",
   "id": "8548bfce",
   "metadata": {},
   "source": [
    "【演習】dfのAMT_INCOME_TOTAL列の要約統計量を出力してください。"
   ]
  },
  {
   "cell_type": "code",
   "execution_count": 55,
   "id": "5d22651b",
   "metadata": {},
   "outputs": [],
   "source": [
    "df = initialize(0)"
   ]
  },
  {
   "cell_type": "code",
   "execution_count": 56,
   "id": "799cb899",
   "metadata": {},
   "outputs": [
    {
     "data": {
      "text/plain": [
       "count    2.000000e+03\n",
       "mean     1.701188e+05\n",
       "std      1.017594e+05\n",
       "min      2.565000e+04\n",
       "25%      1.125000e+05\n",
       "50%      1.440000e+05\n",
       "75%      2.025000e+05\n",
       "max      1.935000e+06\n",
       "Name: AMT_INCOME_TOTAL, dtype: float64"
      ]
     },
     "execution_count": 56,
     "metadata": {},
     "output_type": "execute_result"
    }
   ],
   "source": [
    "# your code goes here\n",
    "df['AMT_INCOME_TOTAL'].describe()"
   ]
  },
  {
   "cell_type": "markdown",
   "id": "c8e88501",
   "metadata": {},
   "source": [
    "### groupby"
   ]
  },
  {
   "cell_type": "markdown",
   "id": "59ffa127",
   "metadata": {},
   "source": [
    "【演習】dfのCODE_GENDERで集約し、それぞれのAMT_INCOME_TOTALの最大値を出力してください。"
   ]
  },
  {
   "cell_type": "code",
   "execution_count": 57,
   "id": "31d1bc74",
   "metadata": {},
   "outputs": [],
   "source": [
    "df = initialize(0)"
   ]
  },
  {
   "cell_type": "code",
   "execution_count": 58,
   "id": "cfef4845",
   "metadata": {},
   "outputs": [
    {
     "data": {
      "text/plain": [
       "CODE_GENDER\n",
       "F    1935000.0\n",
       "M    1080000.0\n",
       "Name: AMT_INCOME_TOTAL, dtype: float64"
      ]
     },
     "execution_count": 58,
     "metadata": {},
     "output_type": "execute_result"
    }
   ],
   "source": [
    "# your code goes here\n",
    "df.groupby('CODE_GENDER')['AMT_INCOME_TOTAL'].max()"
   ]
  },
  {
   "cell_type": "markdown",
   "id": "6b073f43",
   "metadata": {},
   "source": [
    "【演習】dfのCODE_GENDERごとにNAME_CONTRACT_TYPEで集約し、各グループ内の平均と分散を出力してください。また、出力を見やすくするためにindexをリセットしてください。"
   ]
  },
  {
   "cell_type": "code",
   "execution_count": null,
   "id": "7d404f5e",
   "metadata": {},
   "outputs": [],
   "source": [
    "df = initialize(0)"
   ]
  },
  {
   "cell_type": "code",
   "execution_count": 61,
   "id": "1b9062a4",
   "metadata": {},
   "outputs": [
    {
     "data": {
      "text/html": [
       "<div>\n",
       "<style scoped>\n",
       "    .dataframe tbody tr th:only-of-type {\n",
       "        vertical-align: middle;\n",
       "    }\n",
       "\n",
       "    .dataframe tbody tr th {\n",
       "        vertical-align: top;\n",
       "    }\n",
       "\n",
       "    .dataframe thead tr th {\n",
       "        text-align: left;\n",
       "    }\n",
       "</style>\n",
       "<table border=\"1\" class=\"dataframe\">\n",
       "  <thead>\n",
       "    <tr>\n",
       "      <th></th>\n",
       "      <th>CODE_GENDER</th>\n",
       "      <th>NAME_CONTRACT_TYPE</th>\n",
       "      <th colspan=\"2\" halign=\"left\">SK_ID_CURR</th>\n",
       "      <th colspan=\"2\" halign=\"left\">TARGET</th>\n",
       "      <th colspan=\"2\" halign=\"left\">CNT_CHILDREN</th>\n",
       "      <th colspan=\"2\" halign=\"left\">AMT_INCOME_TOTAL</th>\n",
       "      <th colspan=\"2\" halign=\"left\">FLAG_MOBIL</th>\n",
       "      <th colspan=\"2\" halign=\"left\">REGION_POPULATION_RELATIVE</th>\n",
       "      <th colspan=\"2\" halign=\"left\">OWN_CAR_AGE</th>\n",
       "    </tr>\n",
       "    <tr>\n",
       "      <th></th>\n",
       "      <th></th>\n",
       "      <th></th>\n",
       "      <th>mean</th>\n",
       "      <th>var</th>\n",
       "      <th>mean</th>\n",
       "      <th>var</th>\n",
       "      <th>mean</th>\n",
       "      <th>var</th>\n",
       "      <th>mean</th>\n",
       "      <th>var</th>\n",
       "      <th>mean</th>\n",
       "      <th>var</th>\n",
       "      <th>mean</th>\n",
       "      <th>var</th>\n",
       "      <th>mean</th>\n",
       "      <th>var</th>\n",
       "    </tr>\n",
       "  </thead>\n",
       "  <tbody>\n",
       "    <tr>\n",
       "      <th>0</th>\n",
       "      <td>F</td>\n",
       "      <td>Cash loans</td>\n",
       "      <td>101168.925386</td>\n",
       "      <td>442190.822754</td>\n",
       "      <td>0.059177</td>\n",
       "      <td>0.055723</td>\n",
       "      <td>0.385077</td>\n",
       "      <td>0.467039</td>\n",
       "      <td>156289.567886</td>\n",
       "      <td>9.266765e+09</td>\n",
       "      <td>1.0</td>\n",
       "      <td>0.0</td>\n",
       "      <td>0.020755</td>\n",
       "      <td>0.000192</td>\n",
       "      <td>12.677165</td>\n",
       "      <td>230.986275</td>\n",
       "    </tr>\n",
       "    <tr>\n",
       "      <th>1</th>\n",
       "      <td>F</td>\n",
       "      <td>Revolving loans</td>\n",
       "      <td>101225.261905</td>\n",
       "      <td>541309.026857</td>\n",
       "      <td>0.023810</td>\n",
       "      <td>0.023429</td>\n",
       "      <td>0.452381</td>\n",
       "      <td>0.553714</td>\n",
       "      <td>158903.500000</td>\n",
       "      <td>1.214862e+10</td>\n",
       "      <td>1.0</td>\n",
       "      <td>0.0</td>\n",
       "      <td>0.022309</td>\n",
       "      <td>0.000216</td>\n",
       "      <td>10.875000</td>\n",
       "      <td>219.790323</td>\n",
       "    </tr>\n",
       "    <tr>\n",
       "      <th>2</th>\n",
       "      <td>M</td>\n",
       "      <td>Cash loans</td>\n",
       "      <td>101167.272871</td>\n",
       "      <td>478843.630005</td>\n",
       "      <td>0.102524</td>\n",
       "      <td>0.092158</td>\n",
       "      <td>0.435331</td>\n",
       "      <td>0.536886</td>\n",
       "      <td>189622.313091</td>\n",
       "      <td>8.419663e+09</td>\n",
       "      <td>1.0</td>\n",
       "      <td>0.0</td>\n",
       "      <td>0.021848</td>\n",
       "      <td>0.000209</td>\n",
       "      <td>11.465940</td>\n",
       "      <td>119.522744</td>\n",
       "    </tr>\n",
       "    <tr>\n",
       "      <th>3</th>\n",
       "      <td>M</td>\n",
       "      <td>Revolving loans</td>\n",
       "      <td>101025.500000</td>\n",
       "      <td>490170.609589</td>\n",
       "      <td>0.108108</td>\n",
       "      <td>0.097742</td>\n",
       "      <td>0.432432</td>\n",
       "      <td>0.659756</td>\n",
       "      <td>240020.270270</td>\n",
       "      <td>3.032855e+10</td>\n",
       "      <td>1.0</td>\n",
       "      <td>0.0</td>\n",
       "      <td>0.025702</td>\n",
       "      <td>0.000303</td>\n",
       "      <td>12.500000</td>\n",
       "      <td>196.153846</td>\n",
       "    </tr>\n",
       "  </tbody>\n",
       "</table>\n",
       "</div>"
      ],
      "text/plain": [
       "  CODE_GENDER NAME_CONTRACT_TYPE     SK_ID_CURR                   TARGET  \\\n",
       "                                           mean            var      mean   \n",
       "0           F         Cash loans  101168.925386  442190.822754  0.059177   \n",
       "1           F    Revolving loans  101225.261905  541309.026857  0.023810   \n",
       "2           M         Cash loans  101167.272871  478843.630005  0.102524   \n",
       "3           M    Revolving loans  101025.500000  490170.609589  0.108108   \n",
       "\n",
       "            CNT_CHILDREN           AMT_INCOME_TOTAL               FLAG_MOBIL  \\\n",
       "        var         mean       var             mean           var       mean   \n",
       "0  0.055723     0.385077  0.467039    156289.567886  9.266765e+09        1.0   \n",
       "1  0.023429     0.452381  0.553714    158903.500000  1.214862e+10        1.0   \n",
       "2  0.092158     0.435331  0.536886    189622.313091  8.419663e+09        1.0   \n",
       "3  0.097742     0.432432  0.659756    240020.270270  3.032855e+10        1.0   \n",
       "\n",
       "       REGION_POPULATION_RELATIVE           OWN_CAR_AGE              \n",
       "   var                       mean       var        mean         var  \n",
       "0  0.0                   0.020755  0.000192   12.677165  230.986275  \n",
       "1  0.0                   0.022309  0.000216   10.875000  219.790323  \n",
       "2  0.0                   0.021848  0.000209   11.465940  119.522744  \n",
       "3  0.0                   0.025702  0.000303   12.500000  196.153846  "
      ]
     },
     "execution_count": 61,
     "metadata": {},
     "output_type": "execute_result"
    }
   ],
   "source": [
    "# your code goes here\n",
    "df.groupby([\"CODE_GENDER\", \"NAME_CONTRACT_TYPE\"])[['SK_ID_CURR', 'TARGET', 'CNT_CHILDREN', 'AMT_INCOME_TOTAL','FLAG_MOBIL', 'REGION_POPULATION_RELATIVE', 'OWN_CAR_AGE']].agg([\"mean\", \"var\"]).reset_index()"
   ]
  },
  {
   "cell_type": "markdown",
   "id": "23799f5a",
   "metadata": {},
   "source": [
    "## ファイル出力"
   ]
  },
  {
   "cell_type": "markdown",
   "id": "4e483b86",
   "metadata": {},
   "source": [
    "### csvファイルに出力"
   ]
  },
  {
   "cell_type": "markdown",
   "id": "efcb675d",
   "metadata": {},
   "source": [
    "【演習】dfを、行番号、列番号なしで、`./data`ディレクトリ内に`output.csv`という名前で出力してください。"
   ]
  },
  {
   "cell_type": "code",
   "execution_count": 62,
   "id": "b8591620",
   "metadata": {},
   "outputs": [],
   "source": [
    "df = initialize(0)"
   ]
  },
  {
   "cell_type": "code",
   "execution_count": 63,
   "id": "3cf8f2ff",
   "metadata": {},
   "outputs": [],
   "source": [
    "# your code goes here\n",
    "df.to_csv('./data/output.csv', index=False, header=False)"
   ]
  },
  {
   "cell_type": "markdown",
   "id": "716af110-a8d2-4c0e-9a45-a030fb7b52b7",
   "metadata": {},
   "source": [
    "---"
   ]
  },
  {
   "cell_type": "markdown",
   "id": "801f24f3-9639-40d5-95ac-4a5fa728af68",
   "metadata": {},
   "source": [
    "この演習は以上です。"
   ]
  }
 ],
 "metadata": {
  "kernelspec": {
   "display_name": ".venv",
   "language": "python",
   "name": "python3"
  },
  "language_info": {
   "codemirror_mode": {
    "name": "ipython",
    "version": 3
   },
   "file_extension": ".py",
   "mimetype": "text/x-python",
   "name": "python",
   "nbconvert_exporter": "python",
   "pygments_lexer": "ipython3",
   "version": "3.10.0"
  }
 },
 "nbformat": 4,
 "nbformat_minor": 5
}
