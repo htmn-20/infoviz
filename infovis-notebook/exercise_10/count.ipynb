{
 "cells": [
  {
   "cell_type": "markdown",
   "metadata": {},
   "source": [
    "## 文書の選択・削除\n",
    "分野ごとの分析ファイルの数を揃えるため、最もファイル数が小さい分野Aを基準として、分野B、分野Cのファイルをランダムに選択"
   ]
  },
  {
   "cell_type": "code",
   "execution_count": 2,
   "metadata": {},
   "outputs": [],
   "source": [
    "import os\n",
    "import random\n",
    "\n",
    "def select_files(directory, domain_id, file_ids):\n",
    "    all_files = [f for f in os.listdir(directory) if os.path.isfile(os.path.join(directory, f))]\n",
    "    files = [f for f in all_files if domain_id in f]\n",
    "    if file_ids is None:\n",
    "        selected_files = random.sample(files, min(7, len(files)))\n",
    "    else:\n",
    "        selected_files = file_ids\n",
    "    for f in files:\n",
    "        if f not in selected_files:\n",
    "            os.remove(os.path.join(directory, f))\n",
    "    #print(\"Selected files:\", selected_files)\n",
    "    return selected_files\n"
   ]
  },
  {
   "cell_type": "code",
   "execution_count": 3,
   "metadata": {},
   "outputs": [],
   "source": [
    "mt_dir = './MultiEnJa/MT-PE/en-ja.mt'\n",
    "ht_dir = './MultiEnJa/human-translation/en-ja.final'\n",
    "domain_B = 'B'\n",
    "domain_C = 'C'\n",
    "\n",
    "mt_domain_ids_B = select_files(mt_dir, domain_B, None)\n",
    "ht_domain_ids_B = select_files(ht_dir, domain_B, mt_domain_ids_B)\n",
    "mt_domain_ids_C = select_files(mt_dir, domain_C, None)\n",
    "ht_domain_ids_C = select_files(ht_dir, domain_C, mt_domain_ids_C)"
   ]
  },
  {
   "cell_type": "code",
   "execution_count": 4,
   "metadata": {},
   "outputs": [
    {
     "name": "stdout",
     "output_type": "stream",
     "text": [
      "['00000088-B-2-X-9.txt', '00000140-B-5-X-8.txt', '00000109-B-3-X-9.txt', '00000117-B-4-X-8.txt', '00000407-B-5-X-11.txt', '00000450-B-5-X-13.txt', '00000069-B-1-X-8.txt']\n",
      "['00000164-C-2-X-8.txt', '00000340-C-7-X-18.txt', '00000366-C-8-X-13.txt', '00000500-C-10-X-13.txt', '00000373-C-8-X-19.txt', '00000198-C-4-X-14.txt', '00000474-C-4-X-13.txt']\n"
     ]
    }
   ],
   "source": [
    "print(mt_domain_ids_B)\n",
    "print(mt_domain_ids_C)"
   ]
  },
  {
   "cell_type": "markdown",
   "metadata": {},
   "source": [
    "## 基礎統計量の算出\n",
    "analysis.ipynbで作成済みのファイルを利用"
   ]
  },
  {
   "cell_type": "code",
   "execution_count": 5,
   "metadata": {},
   "outputs": [],
   "source": [
    "# 文書数、延べ語数、異なり語数\n",
    "import pandas as pd\n",
    "def count(file):\n",
    "    df = pd.read_csv(file, sep='\\t')\n",
    "    row_count = df.shape[0] # 文書数\n",
    "    token_sum = df['token'].sum()\n",
    "    type_sum = df['type'].sum()\n",
    "    return row_count, token_sum, type_sum"
   ]
  },
  {
   "cell_type": "code",
   "execution_count": 6,
   "metadata": {},
   "outputs": [
    {
     "name": "stdout",
     "output_type": "stream",
     "text": [
      "domain A MT:  7 6070 1979\n",
      "domain B MT:  7 8833 2583\n",
      "domain C MT:  7 8408 2317\n",
      "domain A HT:  7 6633 2130\n",
      "domain B HT:  7 9157 2615\n",
      "domain C HT:  7 8627 2335\n"
     ]
    }
   ],
   "source": [
    "A_mt = './MultiEnJa/domain_A_mt.tsv'\n",
    "B_mt = './MultiEnJa/domain_B_mt.tsv'\n",
    "C_mt = './MultiEnJa/domain_C_mt.tsv'\n",
    "A_ht = './MultiEnJa/domain_A_ht.tsv'\n",
    "B_ht = './MultiEnJa/domain_B_ht.tsv'\n",
    "C_ht = './MultiEnJa/domain_C_ht.tsv'\n",
    "doc_num, token_sum, type_sum = count(A_mt)\n",
    "print('domain A MT: ', doc_num, token_sum, type_sum)\n",
    "doc_num, token_sum, type_sum = count(B_mt)\n",
    "print('domain B MT: ', doc_num, token_sum, type_sum)\n",
    "doc_num, token_sum, type_sum = count(C_mt)\n",
    "print('domain C MT: ', doc_num, token_sum, type_sum)\n",
    "doc_num, token_sum, type_sum = count(A_ht)\n",
    "print('domain A HT: ', doc_num, token_sum, type_sum)\n",
    "doc_num, token_sum, type_sum = count(B_ht)\n",
    "print('domain B HT: ', doc_num, token_sum, type_sum)\n",
    "doc_num, token_sum, type_sum = count(C_ht)\n",
    "print('domain C HT: ', doc_num, token_sum, type_sum)"
   ]
  },
  {
   "cell_type": "code",
   "execution_count": 7,
   "metadata": {},
   "outputs": [],
   "source": [
    "# 文数\n",
    "import spacy\n",
    "import os\n",
    "\n",
    "def count_sent(folder):\n",
    "    sent_num_A = 0\n",
    "    sent_num_B = 0\n",
    "    sent_num_C = 0\n",
    "    for file in os.listdir(folder):\n",
    "        path = folder + '/' + file \n",
    "        file_name = os.path.basename(path)\n",
    "        idx = os.path.splitext(file_name)[0]\n",
    "        nlp = spacy.load(\"ja_ginza\")\n",
    "        with open(path, 'r') as f:\n",
    "            for line in f:\n",
    "                for sent in nlp(line.strip()).sents:\n",
    "                    if 'A' in idx:\n",
    "                        sent_num_A += 1\n",
    "                    elif 'B' in idx:\n",
    "                        sent_num_B += 1\n",
    "                    else:\n",
    "                        sent_num_C += 1\n",
    "    return sent_num_A, sent_num_B, sent_num_C"
   ]
  },
  {
   "cell_type": "code",
   "execution_count": 8,
   "metadata": {},
   "outputs": [
    {
     "name": "stdout",
     "output_type": "stream",
     "text": [
      "247 372 453\n",
      "252 376 484\n"
     ]
    }
   ],
   "source": [
    "mt_folder = './MultiEnJa/MT-PE/en-ja.mt'\n",
    "ht_folder = './MultiEnJa/human-translation/en-ja.final'\n",
    "sent_num_A_mt, sent_num_B_mt, sent_num_C_mt = count_sent(mt_folder)\n",
    "sent_num_A_ht, sent_num_B_ht, sent_num_C_ht = count_sent(ht_folder)\n",
    "print(sent_num_A_mt, sent_num_B_mt, sent_num_C_mt)\n",
    "print(sent_num_A_ht, sent_num_B_ht, sent_num_C_ht)"
   ]
  }
 ],
 "metadata": {
  "kernelspec": {
   "display_name": ".venv",
   "language": "python",
   "name": "python3"
  },
  "language_info": {
   "codemirror_mode": {
    "name": "ipython",
    "version": 3
   },
   "file_extension": ".py",
   "mimetype": "text/x-python",
   "name": "python",
   "nbconvert_exporter": "python",
   "pygments_lexer": "ipython3",
   "version": "3.10.0"
  }
 },
 "nbformat": 4,
 "nbformat_minor": 2
}
