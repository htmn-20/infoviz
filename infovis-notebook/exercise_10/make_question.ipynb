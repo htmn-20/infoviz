{
 "cells": [
  {
   "cell_type": "markdown",
   "metadata": {},
   "source": [
    "# 問いの設定とデータの用意"
   ]
  },
  {
   "cell_type": "markdown",
   "metadata": {},
   "source": [
    "## 問いの検討\n",
    "- トピック: 翻訳\n",
    "- 問い: 同一の原文書に対する機械翻訳の出力と翻訳者による翻訳にはどのような表現上の違いが観察されるのか(あるいはされないのか)\n",
    "    - 現在行っている研究内容との違い\n",
    "        - 研究における対象: **機械翻訳の出力を人手で後編集した翻訳物**と翻訳者による翻訳の差異を記述\n",
    "        - 研究における記述方法: これまで作成してきた差異を分析するための[体系](https://www.jstage.jst.go.jp/article/its/23/0/23_2305/_pdf/-char/ja)を主に利用\n",
    "            - 授業では自作の体系ではなく基礎統計量や既存の尺度を用いた場合の差異を観察したい\n",
    "            - (間接的な目的: 既存の尺度で記述可能な差異と体系で記述可能な差異との違いを意識し、体系の位置づけを考えるための手がかりとする)"
   ]
  },
  {
   "cell_type": "markdown",
   "metadata": {},
   "source": [
    "## データに関する検討\n",
    "- データの要件\n",
    "    - 英日翻訳を対象とする\n",
    "    - 英語文書(SD)に対して翻訳者による翻訳物(HT)と機械翻訳の出力(MT)が含まれているデータが必要\n",
    "        - 機械翻訳は機械翻訳エンジンを利用して作成することも可能\n",
    "    - 1文ごとに独立した対訳対ではなく文書・テキスト単位の翻訳を対象とする\n",
    "- データの候補\n",
    "    - 下記のいずれかを利用\n",
    "    1. [MultiEnJa](https://github.com/tntc-project/MultiEnJa)\n",
    "        - 文書の種類: SD-MT-HT\n",
    "        - 分野: 産業翻訳における多様な分野の文書セット\n",
    "        - 分量: 46文書対\n",
    "    2. [Asian Language Treebank (ALT)](https://www2.nict.go.jp/astrec-att/member/mutiyama/ALT/)\n",
    "        - 文書の種類: SD-HT\n",
    "            - MTの一部は[staged-PE](https://github.com/akfujita/staged-PE)から入手可能\n",
    "            - HTの質がやや低い?\n",
    "        - 分野: ニュース記事(Wikinews)\n",
    "        - 分量: 97記事\n",
    "    3. [ParaNatCom](https://www2.nict.go.jp/astrec-att/member/mutiyama/paranatcom/)\n",
    "        - 文書の種類: SD-HT\n",
    "            - HTは3種類(3名の翻訳者による翻訳)\n",
    "            - MTは要準備\n",
    "        - 分野: 生物医学分野の論文(PubMed)のタイトルと抄録\n",
    "        - 分量: 148〜211文書対"
   ]
  },
  {
   "cell_type": "markdown",
   "metadata": {},
   "source": []
  }
 ],
 "metadata": {
  "language_info": {
   "name": "python"
  }
 },
 "nbformat": 4,
 "nbformat_minor": 2
}
